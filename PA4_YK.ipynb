{
 "cells": [
  {
   "cell_type": "markdown",
   "id": "0b2dec78-9bc1-4ad3-9128-08ea1494ed6f",
   "metadata": {
    "tags": []
   },
   "source": [
    "# Programming Assignment 4\n",
    "---\n",
    "**Author:** Yeva Kramarova  \n",
    "**Version:** 1.0  \n",
    "**Semester:** Spring 2024 \n",
    "\n",
    "This *notebook* contains my solution(s) to **Programming Assignment 4**\n",
    "\n",
    "- Problem 1: Swapping List Elemnts.\n",
    "- Problem 2: Encoding Data.\n",
    "- Problem 3: Rotating Tuples.\n",
    "- Problem 4: Creating a List of Tuples.\n",
    "- Problem 5: Finding Perfect Numbers."
   ]
  },
  {
   "cell_type": "markdown",
   "id": "bed6c5d5-cc04-455e-aa0a-8790560bebb0",
   "metadata": {},
   "source": [
    "### Problem 1 - Swapping List Elements"
   ]
  },
  {
   "cell_type": "code",
   "execution_count": 2,
   "id": "a8be123c-3be8-4b75-bcb2-1ca361c25635",
   "metadata": {
    "tags": []
   },
   "outputs": [
    {
     "name": "stdout",
     "output_type": "stream",
     "text": [
      "Original list: [15, 13, 65, 38, 16, 70, 17, 32, 45, 15]\n",
      "List with first and last elements swapped: [15, 13, 65, 38, 16, 70, 17, 32, 45, 15]\n"
     ]
    }
   ],
   "source": [
    "import random\n",
    "\n",
    "def swap_first_last(lst):\n",
    "    if len(lst) < 2:\n",
    "        return lst\n",
    "    else:\n",
    "        lst_copy = lst[:] \n",
    "        lst_copy[0], lst_copy[-1] = lst_copy[-1], lst_copy[0] \n",
    "        return lst_copy\n",
    "\n",
    "\n",
    "random_list = [random.randint(1, 100) for _ in range(10)]\n",
    "\n",
    "\n",
    "print(\"Original list:\", random_list)\n",
    "swapped_list = swap_first_last(random_list)\n",
    "print(\"List with first and last elements swapped:\", swapped_list)\n"
   ]
  },
  {
   "cell_type": "markdown",
   "id": "d62c7b7b-c805-4408-b483-b5dc04dda13b",
   "metadata": {},
   "source": [
    "### Problem 2 - Encoding Data"
   ]
  },
  {
   "cell_type": "code",
   "execution_count": 6,
   "id": "3ce73bd8-433f-415e-a273-16639293c1cd",
   "metadata": {
    "tags": []
   },
   "outputs": [
    {
     "name": "stdout",
     "output_type": "stream",
     "text": [
      "Original list: [90, 59, 21, 90, 67, 10, 50, 96, 100, 23]\n",
      "Encoded list: [1, -1, -1, 1, -1, 1, 1, 1, 1, -1]\n"
     ]
    }
   ],
   "source": [
    "import random\n",
    "\n",
    "def encode(lst):\n",
    "    return [1 if num % 2 == 0 else -1 for num in lst]\n",
    "\n",
    "random_list = [random.randint(1, 100) for _ in range(10)]  \n",
    "print(\"Original list:\", random_list)\n",
    "encoded_list = encode(random_list)\n",
    "print(\"Encoded list:\", encoded_list)\n"
   ]
  },
  {
   "cell_type": "markdown",
   "id": "743cdd86-d39c-4bc4-add5-2dbab101a4b7",
   "metadata": {},
   "source": [
    "### Problem 3 - Rotating Tuples"
   ]
  },
  {
   "cell_type": "code",
   "execution_count": 5,
   "id": "9b06d332-ac52-4afc-8a8b-f659f8d5c7db",
   "metadata": {
    "tags": []
   },
   "outputs": [
    {
     "name": "stdout",
     "output_type": "stream",
     "text": [
      "Original tuple: ('Jane', 'Kramarova', 56)\n",
      "Rotated tuple: (56, 'Jane', 'Kramarova')\n"
     ]
    }
   ],
   "source": [
    "def rotate(tup):\n",
    "    a, b, c = tup\n",
    "    rotated_tuple = (c, a, b)\n",
    "    return rotated_tuple\n",
    "\n",
    "\n",
    "original_tuple = ('Jane', 'Kramarova', 56)\n",
    "rotated_tuple = rotate(original_tuple)\n",
    "print(\"Original tuple:\", original_tuple)\n",
    "print(\"Rotated tuple:\", rotated_tuple)\n"
   ]
  },
  {
   "cell_type": "markdown",
   "id": "7b45978c-853d-4476-8959-82926cbb6087",
   "metadata": {},
   "source": [
    "### Problem 4 - Creating a List of Tuples"
   ]
  },
  {
   "cell_type": "code",
   "execution_count": 7,
   "id": "eebad5be-84c4-4749-a598-c40e4f9cbca5",
   "metadata": {
    "tags": []
   },
   "outputs": [
    {
     "name": "stdout",
     "output_type": "stream",
     "text": [
      "[('William', 'McKinley', 25), ('Theodore', 'Roosevelt', 26), ('William', 'Taft', 27), ('Woodrow', 'Wilson', 28), ('Warren', 'Harding', 29), ('Calvin', 'Coolidge', 30), ('Herbert', 'Hoover', 31), ('Franklin', 'Roosevelt', 32), ('Harry', 'Truman', 33), ('Dwight', 'Eisenhower', 34), ('John', 'Kennedy', 35), ('Lyndon', 'Johnson', 36)]\n"
     ]
    }
   ],
   "source": [
    "def combine_presidents_info(first_names, last_names, numbers):\n",
    "    combined_list = []\n",
    "    for first_name, last_name, number in zip(first_names, last_names, numbers):\n",
    "        combined_list.append((first_name, last_name, number))\n",
    "    return combined_list\n",
    "\n",
    "first_names = [\"William\", \"Theodore\", \"William\", \"Woodrow\", \"Warren\", \"Calvin\", \"Herbert\", \"Franklin\", \"Harry\", \"Dwight\", \"John\", \"Lyndon\"]\n",
    "last_names = [\"McKinley\", \"Roosevelt\", \"Taft\", \"Wilson\", \"Harding\", \"Coolidge\", \"Hoover\", \"Roosevelt\", \"Truman\", \"Eisenhower\", \"Kennedy\", \"Johnson\"]\n",
    "numbers = list(range(25, 43))\n",
    "\n",
    "\n",
    "presidents_info = combine_presidents_info(first_names, last_names, numbers)\n",
    "print(presidents_info)\n"
   ]
  },
  {
   "cell_type": "markdown",
   "id": "32fdcb19-60b2-4e69-b608-8500c41576a1",
   "metadata": {},
   "source": [
    "### Problem 5 - Finding Perfect Numbers"
   ]
  },
  {
   "cell_type": "code",
   "execution_count": 8,
   "id": "0ace515b-6e42-43ad-8d67-32c7c317d17d",
   "metadata": {
    "tags": []
   },
   "outputs": [
    {
     "name": "stdout",
     "output_type": "stream",
     "text": [
      "Perfect numbers from 1 to 100: [6, 28]\n"
     ]
    }
   ],
   "source": [
    "def perfect_number(n):\n",
    "    sum_of_divisors = 0\n",
    "    for i in range(1, n // 2 + 1):\n",
    "        if n % i == 0:\n",
    "            sum_of_divisors += i\n",
    "    return sum_of_divisors == n\n",
    "\n",
    "numbers = list(range(1, 101))\n",
    "\n",
    "perfect_numbers = list(filter(perfect_number, numbers))\n",
    "print(\"Perfect numbers from 1 to 100:\", perfect_numbers)\n"
   ]
  }
 ],
 "metadata": {
  "kernelspec": {
   "display_name": "Python 3 (ipykernel)",
   "language": "python",
   "name": "python3"
  },
  "language_info": {
   "codemirror_mode": {
    "name": "ipython",
    "version": 3
   },
   "file_extension": ".py",
   "mimetype": "text/x-python",
   "name": "python",
   "nbconvert_exporter": "python",
   "pygments_lexer": "ipython3",
   "version": "3.11.5"
  }
 },
 "nbformat": 4,
 "nbformat_minor": 5
}
